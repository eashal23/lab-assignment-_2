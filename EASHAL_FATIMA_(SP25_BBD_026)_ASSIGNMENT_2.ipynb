{
 "cells": [
  {
   "cell_type": "code",
   "execution_count": 8,
   "id": "afa6b52e",
   "metadata": {},
   "outputs": [
    {
     "name": "stdout",
     "output_type": "stream",
     "text": [
      "the number is negtive\n"
     ]
    }
   ],
   "source": [
    "#Q1\n",
    "#write a program to check if a number is postive negtive or zero\n",
    "number=-24\n",
    "if number > 0:\n",
    "    print(\"the number is postive\")\n",
    "elif number < 0:\n",
    "    print(\"the number is negtive\")\n",
    "else:\n",
    "    print(\"the number is zero\")"
   ]
  },
  {
   "cell_type": "code",
   "execution_count": 9,
   "id": "8704a213",
   "metadata": {},
   "outputs": [
    {
     "name": "stdout",
     "output_type": "stream",
     "text": [
      "23 is not a leap year\n"
     ]
    }
   ],
   "source": [
    "#Q2\n",
    "#write a program to determine whether the given year is leap year or not\n",
    "year=23\n",
    "if year%400==0:\n",
    "    print(f\"{year} is a leap year\")\n",
    "else:\n",
    "    print(f\"{year} is not a leap year\")\n",
    "\n"
   ]
  },
  {
   "cell_type": "code",
   "execution_count": 10,
   "id": "a1591137",
   "metadata": {},
   "outputs": [
    {
     "name": "stdout",
     "output_type": "stream",
     "text": [
      "Result: 13.0\n"
     ]
    }
   ],
   "source": [
    "#Q3\n",
    "#write aprogram to built simple calculator that asks two numbers and an operator (+,-,*,/) and print result\n",
    "\n",
    "num1 = float(input(\"Enter the first number: \"))\n",
    "\n",
    "num2 = float(input(\"Enter the second number: \"))\n",
    "\n",
    "operator = input(\"Enter an operator (+, -, *, /): \")\n",
    "\n",
    "# Perform calculation based on operator\n",
    "if operator == '+':\n",
    "    result = num1 + num2\n",
    "    print(\"Result:\", result)\n",
    "elif operator == '-':\n",
    "    result = num1 - num2\n",
    "    print(\"Result:\", result)\n",
    "elif operator == '*':\n",
    "    result = num1 * num2\n",
    "    print(\"Result:\", result)\n",
    "elif operator == '/':\n",
    "    if num2 != 0:\n",
    "        result = num1 / num2\n",
    "        print(\"Result:\", result)\n",
    "    else:\n",
    "        print(\"Error: Cannot divide by zero.\")\n",
    "else:\n",
    "    print(\"Invalid operator.\")\n",
    "\n"
   ]
  },
  {
   "cell_type": "code",
   "execution_count": 11,
   "id": "a3213d7e",
   "metadata": {},
   "outputs": [
    {
     "name": "stdout",
     "output_type": "stream",
     "text": [
      "Grade: B\n"
     ]
    }
   ],
   "source": [
    "#Q4\n",
    "# write a program that accept student marks and print oppopriate grade\n",
    "marks = float(input(\"Enter student marks: \"))\n",
    "\n",
    "if marks >= 85:\n",
    "    print(\"Grade: A\")\n",
    "elif marks >= 70:\n",
    "    print(\"Grade: B\")\n",
    "elif marks >= 50:\n",
    "    print(\"Grade: C\")\n",
    "else:\n",
    "    print(\"Grade: F\")"
   ]
  },
  {
   "cell_type": "code",
   "execution_count": 1,
   "id": "21a11a75",
   "metadata": {},
   "outputs": [
    {
     "name": "stdout",
     "output_type": "stream",
     "text": [
      "Not eligible.\n"
     ]
    }
   ],
   "source": [
    "#Q5\n",
    "#write a program to ask user age and income for egibile membership or not\n",
    "age = int(input(\"Enter your age: \"))\n",
    "income = float(input(\"Enter your income: \"))\n",
    "\n",
    "if age >= 21 and income > 25000:\n",
    "    print(\"Eligible for membership.\")\n",
    "else:\n",
    "    print(\"Not eligible.\")"
   ]
  },
  {
   "cell_type": "code",
   "execution_count": 4,
   "id": "c9e5be2c",
   "metadata": {},
   "outputs": [
    {
     "name": "stdout",
     "output_type": "stream",
     "text": [
      "FizzBuzz\n"
     ]
    }
   ],
   "source": [
    "#Q6\n",
    "#Create a Python program that accepts a number from the user.\n",
    "#If the number is divisible by both 3 and 5, print \"FizzBuzz.\"\n",
    "#If only divisible by 3, print \"Fizz.\"\n",
    "#If only divisible by 5, print \"Buzz.\"\n",
    "#Otherwise, print the number itself\n",
    "\n",
    "number = int(input(\"Enter a number: \"))\n",
    "\n",
    "if number % 3 == 0 and number % 5 == 0:\n",
    "    print(\"FizzBuzz\")\n",
    "elif number % 3 == 0:\n",
    "    print(\"Fizz\")\n",
    "elif number % 5 == 0:\n",
    "    print(\"Buzz\")\n",
    "else:\n",
    "    print(number)"
   ]
  },
  {
   "cell_type": "code",
   "execution_count": 5,
   "id": "d7d8bf83",
   "metadata": {},
   "outputs": [
    {
     "name": "stdout",
     "output_type": "stream",
     "text": [
      "Digit\n"
     ]
    }
   ],
   "source": [
    "#Q7\n",
    "# Character classification script\n",
    "\n",
    "char = input(\"Enter a single character: \")\n",
    "\n",
    "if len(char) != 1:\n",
    "    print(\"Please enter exactly one character.\")\n",
    "elif char.lower() in 'aeiou':\n",
    "    print(\"Vowel\")\n",
    "elif char.isalpha():\n",
    "    print(\"Consonant\")\n",
    "elif char.isdigit():\n",
    "    print(\"Digit\")\n",
    "else:\n",
    "    print(\"Special character\")"
   ]
  },
  {
   "cell_type": "code",
   "execution_count": 6,
   "id": "bf07c8db",
   "metadata": {},
   "outputs": [
    {
     "name": "stdout",
     "output_type": "stream",
     "text": [
      "Time to work!\n"
     ]
    }
   ],
   "source": [
    "#Q8\n",
    "# Program to check if it's a weekend or a weekday\n",
    "\n",
    "day = input(\"Enter the current day (e.g., Monday, Tuesday): \")\n",
    "\n",
    "# Convert input to lowercase for consistent comparison\n",
    "day = day.lower()\n",
    "\n",
    "if day == \"saturday\" or day == \"sunday\":\n",
    "    print(\"Enjoy your weekend!\")\n",
    "elif day == \"monday\" or day == \"tuesday\" or day == \"wednesday\" or day == \"thursday\" or day == \"friday\":\n",
    "    print(\"Time to work!\")\n",
    "else:\n",
    "    print(\"Invalid day entered.\")"
   ]
  },
  {
   "cell_type": "code",
   "execution_count": 7,
   "id": "41b2e3a8",
   "metadata": {},
   "outputs": [
    {
     "name": "stdout",
     "output_type": "stream",
     "text": [
      "Your bonus amount is: $ 0.2\n"
     ]
    }
   ],
   "source": [
    "#Q9\n",
    "# Bonus calculator based on years of service\n",
    "\n",
    "years = int(input(\"Enter your years of service: \"))\n",
    "salary = float(input(\"Enter your current salary: \"))\n",
    "\n",
    "if years >= 10:\n",
    "    bonus = 0.20 * salary\n",
    "elif years >= 5:\n",
    "    bonus = 0.10 * salary\n",
    "else:\n",
    "    bonus = 0.05 * salary\n",
    "\n",
    "print(\"Your bonus amount is: $\", round(bonus, 2))"
   ]
  },
  {
   "cell_type": "code",
   "execution_count": 8,
   "id": "a5fb7bcd",
   "metadata": {},
   "outputs": [
    {
     "name": "stdout",
     "output_type": "stream",
     "text": [
      "The number is positive.\n",
      "It is even.\n"
     ]
    }
   ],
   "source": [
    "#Q10\n",
    "# Check if a number is positive, negative, or zero\n",
    "# If positive, also check if it's even or odd\n",
    "\n",
    "num = int(input(\"Enter a number: \"))\n",
    "\n",
    "if num > 0:\n",
    "    print(\"The number is positive.\")\n",
    "    if num % 2 == 0:\n",
    "        print(\"It is even.\")\n",
    "    else:\n",
    "        print(\"It is odd.\")\n",
    "elif num < 0:\n",
    "    print(\"The number is negative.\")\n",
    "else:\n",
    "    print(\"The number is zero.\")"
   ]
  }
 ],
 "metadata": {
  "kernelspec": {
   "display_name": "Python 3",
   "language": "python",
   "name": "python3"
  },
  "language_info": {
   "codemirror_mode": {
    "name": "ipython",
    "version": 3
   },
   "file_extension": ".py",
   "mimetype": "text/x-python",
   "name": "python",
   "nbconvert_exporter": "python",
   "pygments_lexer": "ipython3",
   "version": "3.13.3"
  }
 },
 "nbformat": 4,
 "nbformat_minor": 5
}
